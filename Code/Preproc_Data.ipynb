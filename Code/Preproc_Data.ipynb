{
 "cells": [
  {
   "cell_type": "markdown",
   "id": "e38c2b7a",
   "metadata": {},
   "source": [
    "# <font color='orange'>Librerias</font>"
   ]
  },
  {
   "cell_type": "code",
   "execution_count": null,
   "id": "92242c92",
   "metadata": {},
   "outputs": [],
   "source": [
    "import pandas as pd\n",
    "import warnings\n",
    "import plotly.express as px\n",
    "\n",
    "warnings.filterwarnings(\"ignore\")"
   ]
  },
  {
   "cell_type": "markdown",
   "id": "e3e24942",
   "metadata": {},
   "source": [
    "# <font color='orange'>Datos</font>\n",
    "\n",
    "### <font color='orange'>Coberturas</font>\n",
    "\n",
    "* Windscreen-> Parabrisas\n",
    "* DamAll -> Daños por accidente\n",
    "* Fire -> Fuego/Incendio\n",
    "* Acc1 -> Accidente de tipo 1\n",
    "* Acc2 -> Accidente de tipo 2\n",
    "* Legal -> Defensa jurídica\n",
    "* TPLM -> Responsabilidad civil obligatoria\n",
    "* TPLV -> Responsabilidad civil voluntaria\n",
    "* Serv -> Servicios\n",
    "* Theft -> Robo\n",
    "\n",
    "### <font color='orange'>Garantias</font>\n",
    "\n",
    "| Garantía   | Frecuencia |\n",
    "|:-----------|:-----------|\n",
    "| TPL        | 7499       |\n",
    "| Windscreen | 7092       |\n",
    "| Damage     | 1951       | \n",
    "| Theft      | 1226       |\n",
    "| Other      | 248        |\n",
    "| Fire       | 41         |\n"
   ]
  },
  {
   "cell_type": "code",
   "execution_count": null,
   "id": "661ed08c",
   "metadata": {},
   "outputs": [],
   "source": [
    "# Primas (dataset principal)\n",
    "df_primas = pd.read_excel('../Data/fremotor1prem.xlsx')\n",
    "display(df_primas.info(), df_primas.head())"
   ]
  },
  {
   "cell_type": "code",
   "execution_count": null,
   "id": "48857114",
   "metadata": {},
   "outputs": [],
   "source": [
    "# Frecuencia\n",
    "df_freq = pd.read_excel('../Data/fremotor1freq.xlsx')\n",
    "display(df_freq.info(), df_freq.head())"
   ]
  },
  {
   "cell_type": "code",
   "execution_count": null,
   "id": "1060b0fe",
   "metadata": {},
   "outputs": [],
   "source": [
    "# Severidad\n",
    "df_sev = pd.read_excel('../Data/fremotor1sev.xlsx')\n",
    "display(df_sev.info(), df_sev.head())"
   ]
  },
  {
   "cell_type": "markdown",
   "id": "d7945e3c",
   "metadata": {},
   "source": [
    "# <font color='orange'>Procesamiento</font>\n",
    "\n",
    "* Estadísticas\n",
    "* Gráficas\n",
    "* Entrenamiento\n",
    "* Modelos"
   ]
  },
  {
   "cell_type": "code",
   "execution_count": null,
   "id": "daebc98e",
   "metadata": {},
   "outputs": [],
   "source": [
    "# Número de códigos de pólizas únicos\n",
    "display(len(df_primas['IDpol'].unique()), len(df_freq['IDpol'].unique()), len(df_sev['IDpol'].unique()))"
   ]
  },
  {
   "cell_type": "code",
   "execution_count": null,
   "id": "70d7c8a7",
   "metadata": {},
   "outputs": [],
   "source": [
    "# Una póliza en particular\n",
    "df_primas.loc[df_primas['IDpol']=='1000431.10'] #'1000113.100'\t"
   ]
  },
  {
   "cell_type": "code",
   "execution_count": null,
   "id": "15d1660a",
   "metadata": {},
   "outputs": [],
   "source": [
    "# Una póliza en particular\n",
    "df_freq.loc[df_freq['IDpol']=='1000431.10'] #'1000113.100'"
   ]
  },
  {
   "cell_type": "code",
   "execution_count": null,
   "id": "9f644788",
   "metadata": {},
   "outputs": [],
   "source": [
    "# Una póliza en particular \n",
    "df_sev.loc[df_sev['IDpol']=='1000431.10'] #'1000113.100'"
   ]
  },
  {
   "cell_type": "code",
   "execution_count": null,
   "id": "37976252",
   "metadata": {},
   "outputs": [],
   "source": [
    "# Comprobación de que la composición de primas es igual a la prima total \n",
    "sum(df_primas[['PremWindscreen', 'PremDamAll', 'PremFire', 'PremAcc1',\n",
    "       'PremAcc2', 'PremLegal', 'PremTPLM', 'PremTPLV', 'PremServ',\n",
    "       'PremTheft']].sum(axis=1) == df_primas['PremTot'])"
   ]
  },
  {
   "cell_type": "code",
   "execution_count": null,
   "id": "e19faadc",
   "metadata": {},
   "outputs": [],
   "source": [
    "# Chequeo de frecuencias por coberturas\n",
    "df_sev['Guarantee'].value_counts() "
   ]
  },
  {
   "cell_type": "code",
   "execution_count": null,
   "id": "d27954c0",
   "metadata": {},
   "outputs": [],
   "source": [
    "# Gráfica de frecuencias de coberturas\n",
    "frecuencias_cob = df_sev['Guarantee'].value_counts().reset_index()\n",
    "frecuencias_cob.columns = ['color', 'frecuencia']  \n",
    "\n",
    "# Crear gráfica de barras\n",
    "fig = px.bar(frecuencias_cob, x='color', y='frecuencia', title='Frecuencia de coberturas')\n",
    "fig.show()"
   ]
  },
  {
   "cell_type": "markdown",
   "id": "029755ac",
   "metadata": {},
   "source": [
    "#### <font color='orange'>Pólizas con frecuencia máxima 2 y mismo coche</font>\n",
    "\n",
    "* Motivo: en Francia hay pólizas de diferentes autos con el mismo código (creo que se debe a los casos en los que el tomador es la misma persona)."
   ]
  },
  {
   "cell_type": "code",
   "execution_count": null,
   "id": "18ed6434",
   "metadata": {},
   "outputs": [],
   "source": [
    "# Paso 1: Calcular frecuencia de cada IDpol\n",
    "frecuencias = df_primas['IDpol'].value_counts()\n",
    "\n",
    "# Paso 2: Filtrar IDpol con frecuencia máxima de 2\n",
    "idpol_filtrados = frecuencias[frecuencias <= 2].index\n",
    "\n",
    "# Paso 3: Filtrar DataFrame con esos IDpol\n",
    "df_primas_filtrado = df_primas[df_primas['IDpol'].isin(idpol_filtrados)]\n",
    "\n",
    "# Paso 4: Verificar que cada IDpol tenga un único valor de VehPower\n",
    "df_primas_final = df_primas_filtrado.groupby('IDpol').filter(lambda g: g['VehPower'].nunique() == 1 and\n",
    "        set(g['Year']) == {2003, 2004}).reset_index()\n",
    "\n",
    "display(df_primas_final.info(), df_primas_final.head())"
   ]
  },
  {
   "cell_type": "code",
   "execution_count": null,
   "id": "39207caf",
   "metadata": {},
   "outputs": [],
   "source": [
    "# Filtramos los datasets de frecuencias y severidad por esos IDpolizas.\n",
    "\n",
    "polizas_finales = df_primas_final['IDpol'].unique()\n",
    "df_freq_final = pd.DataFrame(df_freq.loc[df_freq['IDpol'].isin(polizas_finales)])\n",
    "df_sev_final = pd.DataFrame(df_sev.loc[df_sev['IDpol'].isin(polizas_finales)])\n",
    "\n",
    "display(df_freq_final.head(), df_sev_final.head())"
   ]
  },
  {
   "cell_type": "markdown",
   "id": "9466ad04",
   "metadata": {},
   "source": [
    "#### <font color='orange'>Procesamiento de datos</font>"
   ]
  },
  {
   "cell_type": "code",
   "execution_count": null,
   "id": "0101a851",
   "metadata": {},
   "outputs": [],
   "source": [
    "# Gráfica de frecuencias de coberturas\n",
    "frecuencias_cob = pd.DataFrame(df_sev_final['Guarantee'].value_counts().reset_index())\n",
    "frecuencias_cob.columns = ['color', 'frecuencia']  \n",
    "\n",
    "# Crear gráfica de barras\n",
    "fig = px.bar(frecuencias_cob, x='color', y='frecuencia', title='Frecuencia de coberturas')\n",
    "fig.show()\n",
    "print(frecuencias_cob)"
   ]
  },
  {
   "cell_type": "code",
   "execution_count": null,
   "id": "b104d584",
   "metadata": {},
   "outputs": [],
   "source": [
    "# Modificación de edad del conductor y edad del vehículo\n",
    "\n",
    "# Paso 1: Calcular frecuencia de cada IDpol\n",
    "frecuencias = df_primas_final['IDpol'].value_counts()\n",
    "\n",
    "# Paso 2: Filtrar IDpol con frecuencia máxima de 2\n",
    "idpol_filtrados = frecuencias[frecuencias == 2].index\n",
    "\n",
    "#idpol_filtrados = idpol_filtrados[~idpol_filtrados.isin(['90153350.100', '90152959.100', '90153017.100', '90152947.100'])]\n",
    "\n",
    "\n",
    "# Paso 3: Ajuste de datos\n",
    "for idpol in idpol_filtrados:\n",
    "\n",
    "    #print(idpol)\n",
    "    if (df_primas_final[(df_primas_final['IDpol']==idpol) & (df_primas_final['Year']==2003)]['VehAge'].reset_index(drop=True) == df_primas_final[(df_primas_final['IDpol']==idpol) & (df_primas_final['Year']==2004)]['VehAge'].reset_index(drop=True)).all():\n",
    "        df_primas_final.loc[(df_primas_final['IDpol']==idpol) & (df_primas_final['Year']==2004), 'VehAge'] += 1\n",
    "\n",
    "    if (df_primas_final[(df_primas_final['IDpol']==idpol) & (df_primas_final['Year']==2003)]['DrivAge'].reset_index(drop=True) == df_primas_final[(df_primas_final['IDpol']==idpol) & (df_primas_final['Year']==2004)]['DrivAge'].reset_index(drop=True)).all():\n",
    "        df_primas_final.loc[(df_primas_final['IDpol']==idpol) & (df_primas_final['Year']==2004), 'DrivAge'] += 1\n",
    "\n",
    "\n",
    "display(df_primas_final.info(), df_primas_final.head())"
   ]
  },
  {
   "cell_type": "code",
   "execution_count": null,
   "id": "ca6d35eb",
   "metadata": {},
   "outputs": [],
   "source": [
    "# Control de datasets\n",
    "display(\n",
    "    'Número de pólizas únicas ' + str(len(df_primas_final['IDpol'].unique())),\n",
    "    'Data set de primas ' + str(df_primas_final.shape), \n",
    "    'Data set de frecuencias de siniestros ' + str(df_freq_final.shape), \n",
    "    'Data set de severidad ' + str(df_sev_final.shape)\n",
    "    )"
   ]
  },
  {
   "cell_type": "code",
   "execution_count": null,
   "id": "f6c970cb",
   "metadata": {},
   "outputs": [],
   "source": [
    "df_freq_final.reset_index(inplace=True)\n",
    "df_sev_final.reset_index(inplace=True)"
   ]
  },
  {
   "cell_type": "code",
   "execution_count": null,
   "id": "08903b48",
   "metadata": {},
   "outputs": [],
   "source": [
    "# Unión de los data sets de primas y frecuencias\n",
    "\n",
    "# Paso 1: combinar ambos DataFrames por IDpol\n",
    "df = df_primas_final.merge(df_freq_final, on='IDpol', how='left')\n",
    "\n",
    "# Paso 2: crear la nueva columna 'ClaimNb' según el año\n",
    "df['ClaimNb'] = df.apply(\n",
    "    lambda row: row['ClaimNb2003'] if row['Year'] == 2003 else row['ClaimNb2004'],\n",
    "    axis=1\n",
    ")\n",
    "\n",
    "# (Opcional) Paso 3: eliminar las columnas intermedias si ya no se necesitan\n",
    "df = df.drop(columns=['ClaimNb2003', 'ClaimNb2004'])\n",
    "\n",
    "df.head()"
   ]
  },
  {
   "cell_type": "code",
   "execution_count": null,
   "id": "0f730737",
   "metadata": {},
   "outputs": [],
   "source": [
    "# Vamos a introducir los tipos de siniestros que haya tenido cada póliza en la tabla primas\n",
    "\n",
    "# Creamos la variable year en la tabla de severidad\n",
    "df_sev_final['year'] = df_sev_final['OccurDate'].dt.year\n",
    "\n",
    "# Creamos las columnas por siniestros / coberturas (garantias) y costes de siniestros / coberturas (garantias) en la tabla de primas\n",
    "    # Guarantee\n",
    "    # ['Windscreen', 'Theft', 'Damage', 'TPL', 'Other', 'Fire']\n",
    "df['Windscreen_Claims'] = 0\n",
    "df['Theft_Claims'] = 0\n",
    "df['Damage_Claims'] = 0\n",
    "df['TPL_Claims'] = 0\n",
    "df['Other_Claims'] = 0\n",
    "df['Fire_Claims'] = 0\n",
    "\n",
    "df['Windscreen_Claims_Amount'] = 0\n",
    "df['Theft_Claims_Amount'] = 0\n",
    "df['Damage_Claims_Amount'] = 0\n",
    "df['TPL_Claims_Amount'] = 0\n",
    "df['Other_Claims_Amount'] = 0\n",
    "df['Fire_Claims_Amount'] = 0\n",
    "\n",
    "df['Windscreen_Claims_Sev'] = 0\n",
    "df['Theft_Claims_Sev'] = 0\n",
    "df['Damage_Claims_Sev'] = 0\n",
    "df['TPL_Claims_Sev'] = 0\n",
    "df['Other_Claims_Sev'] = 0\n",
    "df['Fire_Claims_Sev'] = 0\n",
    "\n",
    "# Recorremos la tabla de severidad para autocompletar la de primas (más optimizado)\n",
    "for index, row in df_sev_final.iterrows():\n",
    "\n",
    "    #print(f\"Póliza: {row['IDpol']}, Año: {row['year']}, Cobertura: {row['Guarantee']}, Coste: {row['Payment']}\")\n",
    "    \n",
    "    freq_col = row['Guarantee']+'_Claims'\n",
    "    sev_col = row['Guarantee']+'_Claims_Amount'\n",
    "    \n",
    "    df.loc[(df['IDpol']==row['IDpol']) & (df['Year']==row['year']), freq_col] += 1\n",
    "    df.loc[(df['IDpol']==row['IDpol']) & (df['Year']==row['year']), sev_col] += row['Payment']\n",
    "\n",
    "\n",
    "for index, row in df.iterrows():\n",
    "\n",
    "    if row['Windscreen_Claims']!=0:\n",
    "\n",
    "        df.loc[index, 'Windscreen_Claims_Sev'] = row['Windscreen_Claims_Amount']/row['Windscreen_Claims'] \n",
    "    \n",
    "    if row['Theft_Claims']!=0:\n",
    "\n",
    "        df.loc[index, 'Theft_Claims_Sev'] = row['Theft_Claims_Amount']/row['Theft_Claims']\n",
    "\n",
    "    if row['Damage_Claims']!=0:\n",
    "\n",
    "        df.loc[index, 'Damage_Claims_Sev'] = row['Damage_Claims_Amount']/row['Damage_Claims']\n",
    "\n",
    "    if row['TPL_Claims']!=0:\n",
    "\n",
    "        df.loc[index, 'TPL_Claims_Sev'] = row['TPL_Claims_Amount']/row['TPL_Claims']\n",
    "\n",
    "    if row['Other_Claims']!=0:\n",
    "\n",
    "        df.loc[index, 'Other_Claims_Sev'] = row['Other_Claims_Amount']/row['Other_Claims']\n",
    "\n",
    "    if row['Fire_Claims']!=0:\n",
    "\n",
    "        df.loc[index, 'Fire_Claims_Sev'] = row['Fire_Claims_Amount']/row['Fire_Claims']\n",
    "\n",
    "\n",
    "\n",
    "display(df.info(), df.head())"
   ]
  },
  {
   "attachments": {},
   "cell_type": "markdown",
   "id": "f53fc296",
   "metadata": {},
   "source": [
    "#### <font color='orange'>Variables explicativas</font>\n",
    "\n",
    "* Crear una variable ID con valores únicos (propuesta: IDpol + Year).\n",
    "\n",
    "'IDpol', 'Year', \n",
    "'DrivAge', 'DrivGender', 'MaritalStatus', 'BonusMalus', 'LicenceNb', 'VehNb', 'PayFreq', 'JobCode', 'VehAge',\n",
    "'VehClass', 'VehPower', 'VehGas', 'VehUsage', 'Garage', 'Area',  'Region', 'Channel', 'Marketing', 'PremWindscreen', 'PremDamAll',\n",
    "'PremFire', 'PremAcc1', 'PremAcc2', 'PremLegal', 'PremTPLM', 'PremTPLV', 'PremServ', 'PremTheft', 'PremTot'\n",
    "\n",
    "#### <font color='orange'>Variables objetivo</font>\n",
    "\n",
    "'Windscreen_Claims', 'Theft_Claims', 'Damage_Claims', 'TPL_Claims', 'Other_Claims', 'Fire_Claims',\n",
    "'Windscreen_Claims_Sev', 'Theft_Claims_Sev', 'Damage_Claims_Sev', 'TPL_Claims_Sev', 'Other_Claims_Sev', 'Fire_Claims_Sev'"
   ]
  },
  {
   "cell_type": "code",
   "execution_count": null,
   "id": "ae35a54b",
   "metadata": {},
   "outputs": [],
   "source": [
    "print(df[['Windscreen_Claims', 'Theft_Claims', 'Damage_Claims', 'TPL_Claims', 'Other_Claims', 'Fire_Claims']].sum().sort_values(ascending=False))\n",
    "print(df[['Windscreen_Claims_Sev', 'Theft_Claims_Sev', 'Damage_Claims_Sev', 'TPL_Claims_Sev', 'Other_Claims_Sev', 'Fire_Claims_Sev']].sum().sort_values(ascending=False))"
   ]
  },
  {
   "attachments": {},
   "cell_type": "markdown",
   "id": "4fdfd111",
   "metadata": {},
   "source": [
    "#### <font color='orange'>Creamos los data set para cada uno de los problemas (las 4 coberturas más frecuentes)</font>"
   ]
  },
  {
   "cell_type": "code",
   "execution_count": null,
   "id": "8f674569",
   "metadata": {},
   "outputs": [],
   "source": [
    "df['IDpol_Year'] = df['IDpol'] + '_' + df['Year'].astype(str)\n",
    "features = ['IDpol_Year', 'DrivAge', 'DrivGender', 'MaritalStatus', 'BonusMalus', 'LicenceNb', 'VehNb', 'PayFreq', 'JobCode', 'VehAge', \n",
    "            'VehClass', 'VehPower', 'VehGas', 'VehUsage', 'Garage', 'Area',  'Region', 'Channel', 'Marketing', 'PremWindscreen', 'PremDamAll',\n",
    "            'PremFire', 'PremAcc1', 'PremAcc2', 'PremLegal', 'PremTPLM', 'PremTPLV', 'PremServ', 'PremTheft', 'PremTot']\n",
    "\n",
    "# Data sets de frecuencias\n",
    "df[features + ['Windscreen_Claims']].to_excel('df_windscreen_freq.xlsx', index=False)\n",
    "df[features + ['TPL_Claims']].to_excel('df_tpl_freq.xlsx', index=False)\n",
    "df[features + ['Damage_Claims']].to_excel('df_damage_freq.xlsx', index=False)\n",
    "df[features + ['Theft_Claims']].to_excel('df_theft_freq.xlsx', index=False)\n",
    "\n",
    "# Data sets de severidad\n",
    "df[features + ['Windscreen_Claims_Sev']].to_excel('df_windscreen_sev.xlsx', index=False)\n",
    "df[features + ['TPL_Claims_Sev']].to_excel('df_tpl_sev.xlsx', index=False)\n",
    "df[features + ['Damage_Claims_Sev']].to_excel('df_damage_sev.xlsx', index=False)\n",
    "df[features + ['Theft_Claims_Sev']].to_excel('df_theft_sev.xlsx', index=False)\n"
   ]
  },
  {
   "cell_type": "code",
   "execution_count": null,
   "id": "e07f74f4",
   "metadata": {},
   "outputs": [],
   "source": []
  },
  {
   "cell_type": "code",
   "execution_count": null,
   "id": "3dc5199a",
   "metadata": {},
   "outputs": [],
   "source": []
  },
  {
   "cell_type": "code",
   "execution_count": null,
   "id": "9e64078c",
   "metadata": {},
   "outputs": [],
   "source": []
  },
  {
   "cell_type": "code",
   "execution_count": null,
   "id": "f1c86b8d",
   "metadata": {},
   "outputs": [],
   "source": []
  }
 ],
 "metadata": {
  "kernelspec": {
   "display_name": "base",
   "language": "python",
   "name": "python3"
  },
  "language_info": {
   "codemirror_mode": {
    "name": "ipython",
    "version": 3
   },
   "file_extension": ".py",
   "mimetype": "text/x-python",
   "name": "python",
   "nbconvert_exporter": "python",
   "pygments_lexer": "ipython3",
   "version": "3.11.4"
  },
  "vscode": {
   "interpreter": {
    "hash": "3c06e3e46abf38078fe4dac36a0085ec2b134ebbd73dd076183d243eeca6918f"
   }
  }
 },
 "nbformat": 4,
 "nbformat_minor": 5
}
